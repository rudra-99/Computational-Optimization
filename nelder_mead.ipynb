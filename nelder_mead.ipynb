{
 "cells": [
  {
   "cell_type": "markdown",
   "metadata": {},
   "source": [
    "# Nelder Mead Simplex Method"
   ]
  },
  {
   "cell_type": "code",
   "execution_count": 41,
   "metadata": {},
   "outputs": [],
   "source": [
    "import numpy as np\n",
    "import matplotlib.pyplot as plt\n",
    "import random\n",
    "import math"
   ]
  },
  {
   "cell_type": "code",
   "execution_count": 42,
   "metadata": {},
   "outputs": [],
   "source": [
    "def objective_function(X):\n",
    "    return abs(X[0]**2-4*X[0]+X[1]**2-X[1]-X[0]*X[1])"
   ]
  },
  {
   "cell_type": "code",
   "execution_count": 45,
   "metadata": {},
   "outputs": [],
   "source": [
    "\n",
    "def objective_function(X):\n",
    "    return abs(X[0]**2-4*X[0]+X[1]**2-X[1]-X[0]*X[1])\n",
    "\n",
    "def reflection_point(x,alpha,mean):\n",
    "    xr=(mean[0]+alpha*(mean[0]-x[0]),mean[1]+alpha*(mean[1]-x[1]))\n",
    "    return xr\n",
    "def expansion_point(xr,beta,mean):\n",
    "    xe=(mean[0]+beta*(-mean[0]+xr[0]),mean[1]+beta*(-mean[1]+xr[1]))\n",
    "    return xe\n",
    "def contraction_point(x,gamma,mean):\n",
    "    xc=(mean[0]+gamma*(-mean[0]+x[0]),mean[1]+gamma*(-mean[1]+x[1]))\n",
    "    return xc\n",
    "def shrink(x,xl):\n",
    "    return ((x[0]+xl[0])/2,(x[1]+xl[1])/2)\n",
    "def conv_test(simplex):\n",
    "    delta=np.array([objective_function(i) for i in simplex])\n",
    "    a=delta-(sum(delta)/len(delta))\n",
    "    conv_testt=math.sqrt((1/(len(delta)+1))*(a.dot(a)))\n",
    "    return conv_testt\n",
    "\n",
    "\n",
    "def Nelder_mead(simplex,epsilon,alpha,beta,gamma):\n",
    "    z=conv_test(simplex)\n",
    "    x=0\n",
    "    A=[z]\n",
    "    B=[x]\n",
    "    while z>epsilon:\n",
    "        temp=[[i,objective_function(i)] for i in simplex]\n",
    "        temp.sort(key=lambda x:x[1])\n",
    "        xh=temp[-1][0]\n",
    "        xl=temp[0][0]\n",
    "        xs=temp[1][0]\n",
    "        mean=(sum(i[0][0] for i in temp)/len(simplex),sum(i[0][1] for i in temp)/len(simplex))\n",
    "        xr=reflection_point(xh,alpha,mean)\n",
    "        yr=objective_function(xr)\n",
    "        yl=temp[-1][1]\n",
    "        if yr<yl:\n",
    "            xe=expansion_point(xr,beta,mean)\n",
    "            ye=objective_function(xe)\n",
    "            if ye<yr:\n",
    "                temp.pop(-1)\n",
    "                temp.append([xe,ye])\n",
    "            else:\n",
    "                temp.pop(-1)\n",
    "                temp.append([xr,yr])\n",
    "        else:\n",
    "            ys=objective_function(xs)\n",
    "            if yr<ys:\n",
    "                temp.pop(-1)\n",
    "                temp.append([xr,yr])\n",
    "            else:\n",
    "                yh=objective_function(xh)\n",
    "                if yr<yh:\n",
    "                    temp.pop(-1)\n",
    "                    temp.append([xr,yr])\n",
    "                else:\n",
    "                    xc=contraction_point(xh,gamma,mean)\n",
    "                    yc=objective_function(xc)\n",
    "                    if yc>yh:\n",
    "                        xh=shrink(xh,xl)\n",
    "                        xs=shrink(xs,xl)\n",
    "                    else:\n",
    "                        temp.pop(-1)\n",
    "                        temp.append([xc,yc])\n",
    "        \n",
    "        simplex=[i[0] for i in temp]\n",
    "        z=conv_test(simplex)\n",
    "        x+=1\n",
    "        A.append(z)\n",
    "        B.append(x)\n",
    "        if x%50==0:\n",
    "            print('iter',x )\n",
    "            print(f'The convergence is ',z)\n",
    "            print()\n",
    "    print('iter',x)\n",
    "    print(f'The convergence is {z}')\n",
    "    print()\n",
    "    \n",
    "    \n",
    "    print(f'The minimum value obtained is {temp[0][1]} and the minimizer is at {temp[0][0]}')\n",
    "    plt.figure(figsize=(12,10))\n",
    "    plt.plot(B,A)\n",
    "    plt.ylabel('Convergence')\n",
    "    plt.xlabel('iterations')\n",
    "    "
   ]
  },
  {
   "cell_type": "code",
   "execution_count": 46,
   "metadata": {},
   "outputs": [
    {
     "name": "stdout",
     "output_type": "stream",
     "text": [
      "iter 50\n",
      "The convergence is  1.1374095672494553\n",
      "\n",
      "iter 100\n",
      "The convergence is  0.7996250150946849\n",
      "\n",
      "iter 150\n",
      "The convergence is  0.48161806458010664\n",
      "\n",
      "iter 188\n",
      "The convergence is 0.00889189159186722\n",
      "\n",
      "The minimum value obtained is 0.005712769619194091 and the minimizer is at (5.138545953360799, 4.960219478737586)\n"
     ]
    },
    {
     "data": {
      "image/png": "[encoded data removed]",
      "text/plain": [
       "<Figure size 864x720 with 1 Axes>"
      ]
     },
     "metadata": {
      "needs_background": "light"
     },
     "output_type": "display_data"
    }
   ],
   "source": [
    "simplex=[(10,20),(15,18),(22,14)]\n",
    "Nelder_mead(simplex,0.01,1,2,0.5)"
   ]
  },
  {
   "cell_type": "code",
   "execution_count": null,
   "metadata": {},
   "outputs": [],
   "source": []
  }
 ],
 "metadata": {
  "kernelspec": {
   "display_name": "Python 3.9.12",
   "language": "python",
   "name": "python3"
  },
  "language_info": {
   "codemirror_mode": {
    "name": "ipython",
    "version": 3
   },
   "file_extension": ".py",
   "mimetype": "text/x-python",
   "name": "python",
   "nbconvert_exporter": "python",
   "pygments_lexer": "ipython3",
   "version": "3.9.12"
  },
  "orig_nbformat": 4,
  "vscode": {
   "interpreter": {
    "hash": "40d3a090f54c6569ab1632332b64b2c03c39dcf918b08424e98f38b5ae0af88f"
   }
  }
 },
 "nbformat": 4,
 "nbformat_minor": 2
}
