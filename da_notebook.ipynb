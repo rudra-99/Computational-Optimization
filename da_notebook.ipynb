{
 "cells": [
  {
   "cell_type": "markdown",
   "metadata": {},
   "source": [
    "## Benchmark Function Optimisation using\n",
    "# Dragonfly Algorithm"
   ]
  },
  {
   "cell_type": "markdown",
   "metadata": {},
   "source": [
    "#### Required Libraries"
   ]
  },
  {
   "cell_type": "code",
   "execution_count": 57,
   "metadata": {},
   "outputs": [],
   "source": [
    "import random\n",
    "import math\n",
    "import numpy as np\n",
    "import matplotlib.pyplot as plt\n",
    "import pandas as pd"
   ]
  },
  {
   "cell_type": "markdown",
   "metadata": {},
   "source": [
    "## Benchmark Functions"
   ]
  },
  {
   "cell_type": "code",
   "execution_count": 58,
   "metadata": {},
   "outputs": [],
   "source": [
    "def Booth_function(X):\n",
    "    y=(X[0]+(2*X[1])-7)**2+((2*X[0])+X[1]-5)**2\n",
    "    return y\n",
    "\n",
    "def beale_function(X):\n",
    "    y=(1.5-X[0]+X[0]*X[1])**2+(2.25-X[0]+X[0]*(X[1]**2))**2+(2.625-X[0]+X[0]*(X[1]**3))**2\n",
    "    return y\n",
    "def himmelblaus_function(X):\n",
    "    y=(X[0]**2+X[1]-11)**2+(X[0]+X[1]**2-7)**2\n",
    "    return y\n",
    "def Rastrigin_function(X):\n",
    "    y=20+(X[0]**2+X[1]**2)-10*(math.cos(2*180*X[0])+math.cos(2*180*X[1]))\n",
    "    return y\n"
   ]
  },
  {
   "cell_type": "code",
   "execution_count": 59,
   "metadata": {},
   "outputs": [],
   "source": [
    "Actual_function_minimas={'Booth_function':[(1,3),0],'Beale_function':[(3,0.5),0],'Himmelblaus_function':[[(3,2),(-2.805118,3.131312),(-3.779310,-3.283186),(3.584428,-1.848126)],0]}"
   ]
  },
  {
   "cell_type": "code",
   "execution_count": 60,
   "metadata": {},
   "outputs": [],
   "source": [
    "function_list=[Booth_function,beale_function,himmelblaus_function,Rastrigin_function]"
   ]
  },
  {
   "cell_type": "markdown",
   "metadata": {},
   "source": [
    "## Updation Parameters of DA"
   ]
  },
  {
   "cell_type": "code",
   "execution_count": 61,
   "metadata": {},
   "outputs": [],
   "source": [
    "def Separation_cohesion(position,best_dragonfly):\n",
    "    c=random.random()\n",
    "    return position+c*(best_dragonfly-position)\n",
    "def align(velocities,best_velocity):\n",
    "    a=random.uniform(0,1)\n",
    "    return a*(best_velocity-velocities)\n",
    "    # return a*((sum(np.array(best_velocity))/len(best_velocity))-velocities)"
   ]
  },
  {
   "cell_type": "markdown",
   "metadata": {},
   "source": [
    "## Vanilla Dragonfly Algorithm"
   ]
  },
  {
   "cell_type": "code",
   "execution_count": 62,
   "metadata": {},
   "outputs": [],
   "source": [
    "def dragonfly_algorithm(func,num_dragonflies, max_iterations):\n",
    "    \n",
    "    # Initialize the population of dragonflies with random positions\n",
    "    num_dimensions=2\n",
    "    dragonflies = [[random.uniform(-10,10) for _ in range(num_dimensions)] for _ in range(num_dragonflies)]\n",
    "    velocities=[random.random() for _ in range(num_dragonflies)]\n",
    "   \n",
    "    best_dragonfly = None\n",
    "    best_fitness = float('inf')\n",
    "    count=0\n",
    "    \n",
    "    for iteration in range(max_iterations):\n",
    "        if best_fitness>0.0001:\n",
    "            count+=1\n",
    "        for i, dragonfly in enumerate(dragonflies):\n",
    "            # Evaluate the fitness of the current dragonfly\n",
    "            fitness = func(dragonfly)\n",
    "            \n",
    "            # Update the best dragonfly if necessary\n",
    "            if fitness < best_fitness:\n",
    "                best_dragonfly = dragonfly\n",
    "                best_fitness = fitness\n",
    "                best_velocity=velocities\n",
    "            \n",
    "            # Move the dragonfly towards the best dragonfly\n",
    "            for j, position in enumerate(dragonfly):               \n",
    "                dragonfly[j] = Separation_cohesion(position,best_dragonfly[j])+align(velocities[j],best_velocity[j])\n",
    "    # print(f'{func}')\n",
    "    # print()\n",
    "    # print('Position of the dragonfly:',best_dragonfly,'\\nFunction value obtained at the position of the dragonfly',func(best_dragonfly))\n",
    "    # print(count)\n",
    "    return [best_dragonfly,func(best_dragonfly)]\n",
    "   "
   ]
  },
  {
   "cell_type": "markdown",
   "metadata": {},
   "source": [
    "### Result obtained from Vanilla Dragonfly Algorithm"
   ]
  },
  {
   "cell_type": "code",
   "execution_count": 63,
   "metadata": {},
   "outputs": [
    {
     "data": {
      "text/plain": [
       "[[1.148371194607584, 2.8726525476033435], 0.03999937596740623]"
      ]
     },
     "execution_count": 63,
     "metadata": {},
     "output_type": "execute_result"
    }
   ],
   "source": [
    "dragonfly_algorithm(Booth_function,30,100)"
   ]
  },
  {
   "cell_type": "markdown",
   "metadata": {},
   "source": [
    "## Velocity updation of dragonflies using PSO"
   ]
  },
  {
   "cell_type": "code",
   "execution_count": 64,
   "metadata": {},
   "outputs": [],
   "source": [
    "def update_velocity(best_dragonfly,position,velocities):\n",
    "    c1=c2=2\n",
    "    w=0.1\n",
    "    alpha=random.random()\n",
    "    r1=random.random()\n",
    "    r2=random.random()\n",
    "    cognitive_velocity=c1*r1*Separation_cohesion(position,best_dragonfly)\n",
    "    social_velocity=c2*r2*Separation_cohesion(position,best_dragonfly)*0\n",
    "    velocities=w*velocities+(cognitive_velocity+social_velocity)\n",
    "    return velocities"
   ]
  },
  {
   "cell_type": "markdown",
   "metadata": {},
   "source": [
    "## Dragonfly hybridised with PSO"
   ]
  },
  {
   "cell_type": "code",
   "execution_count": 65,
   "metadata": {},
   "outputs": [],
   "source": [
    "def dragonfly_algorithm_PSO(func,num_dragonflies, max_iterations):\n",
    "    \n",
    "    # Initialize the population of dragonflies with random positions\n",
    "    num_dimensions=2\n",
    "    dragonflies = [[random.uniform(-10,10) for _ in range(num_dimensions)] for _ in range(num_dragonflies)]\n",
    "    velocities=[random.random() for _ in range(num_dragonflies)]\n",
    "   \n",
    "    best_dragonfly = None\n",
    "    best_fitness = float('inf')\n",
    "    count=0\n",
    "    \n",
    "    for iteration in range(max_iterations):\n",
    "        if best_fitness>0.0001:\n",
    "            count+=1\n",
    "        for i, dragonfly in enumerate(dragonflies):\n",
    "            # Evaluate the fitness of the current dragonfly\n",
    "            fitness = func(dragonfly)\n",
    "            \n",
    "            # Update the best dragonfly if necessary\n",
    "            if fitness < best_fitness:\n",
    "                best_dragonfly = dragonfly\n",
    "                best_fitness = fitness\n",
    "                best_velocity=velocities\n",
    "            \n",
    "            # Move the dragonfly towards the best dragonfly\n",
    "            for j, position in enumerate(dragonfly):  \n",
    "                velocities[j]= update_velocity(best_dragonfly[j],position,velocities[j])           \n",
    "                dragonfly[j]= Separation_cohesion(position,best_dragonfly[j])+align(velocities[j],best_velocity[j])\n",
    "    # print(f'{func}')\n",
    "    # print()\n",
    "    # print('Position of the dragonfly:',best_dragonfly,'\\nFunction value obtained at the position of the dragonfly',func(best_dragonfly))\n",
    "    # print(f'{count}')\n",
    "    return [best_dragonfly,func(best_dragonfly)]"
   ]
  },
  {
   "cell_type": "markdown",
   "metadata": {},
   "source": [
    "### Result obtained from hybridised PSO"
   ]
  },
  {
   "cell_type": "code",
   "execution_count": 66,
   "metadata": {},
   "outputs": [
    {
     "name": "stdout",
     "output_type": "stream",
     "text": [
      "[[1.0000001869898871, 2.9999997663669897], 9.825192474936459e-14]\n"
     ]
    }
   ],
   "source": [
    "print(dragonfly_algorithm_PSO(Booth_function,30,100))"
   ]
  },
  {
   "cell_type": "markdown",
   "metadata": {},
   "source": [
    "## Ensembling Vanilla DA and Hybridised DA"
   ]
  },
  {
   "cell_type": "code",
   "execution_count": 67,
   "metadata": {},
   "outputs": [],
   "source": [
    "def ensemble_da(func,num_dragonflies, max_iterations):\n",
    "    da_plain=[]\n",
    "    da_pso=[]\n",
    "    for i in range(400):\n",
    "        da_plain.append(dragonfly_algorithm(func,num_dragonflies, max_iterations))\n",
    "        da_pso.append(dragonfly_algorithm_PSO(func,num_dragonflies, max_iterations))\n",
    "    da_plain.sort(key=lambda x:x[1])\n",
    "    da_pso.sort(key=lambda x:x[1])\n",
    "    if da_plain[0][1]<da_pso[0][1]:\n",
    "        print(f'Position of the dragonfly:{da_plain[0][0]}\\nFunction value obtained at the position of the dragonfly{da_plain[0][1]}')\n",
    "        return da_plain[0][1]\n",
    "    else:\n",
    "        print(f'Position of the dragonfly:{da_pso[0][0]}\\nFunction value obtained at the position of the dragonfly{da_pso[0][1]}')\n",
    "        return da_pso[0][1]"
   ]
  },
  {
   "cell_type": "markdown",
   "metadata": {},
   "source": [
    "### Result from Ensembling "
   ]
  },
  {
   "cell_type": "code",
   "execution_count": 68,
   "metadata": {},
   "outputs": [
    {
     "name": "stdout",
     "output_type": "stream",
     "text": [
      "Position of the dragonfly:[4.100527524509307e-10, -0.05235979699105319]\n",
      "Function value obtained at the position of the dragonfly0.0027415525474303593\n"
     ]
    },
    {
     "data": {
      "text/plain": [
       "0.0027415525474303593"
      ]
     },
     "execution_count": 68,
     "metadata": {},
     "output_type": "execute_result"
    }
   ],
   "source": [
    "ensemble_da(Rastrigin_function,30,100)"
   ]
  },
  {
   "cell_type": "markdown",
   "metadata": {},
   "source": [
    "## Comparitive Analysis"
   ]
  },
  {
   "cell_type": "code",
   "execution_count": 69,
   "metadata": {},
   "outputs": [
    {
     "name": "stdout",
     "output_type": "stream",
     "text": [
      "Booth_function\n",
      "Vanilla Dragonfly Algorithm:\n",
      "Result:\n",
      "Minimiser:[0.9898206878009776, 3.008459100168917] Function Value:0.00018701129022700573\n",
      "Dragonfly Algorithm Hybridised with PSO:\n",
      "Result:\n",
      "Minimiser:[1.0000461150791018, 2.9999631039355146] Function Value:3.827881017003206e-09\n",
      "Ensemble Dragonfly Algorithm:\n",
      "Minimisers:\n",
      "Position of the dragonfly:[1.0000000000001223, 2.9999999999998908]\n",
      "Function value obtained at the position of the dragonfly2.742711595272414e-26\n",
      "Position of the dragonfly:[1.000000000000027, 2.999999999999971]\n",
      "Function value obtained at the position of the dragonfly1.5303901561287629e-27\n",
      "######################################################################\n",
      "\n",
      "beale_function\n",
      "Vanilla Dragonfly Algorithm:\n",
      "Result:\n",
      "Minimiser:[-4.565680715312162, 1.184131712101306] Function Value:0.758013359489773\n",
      "Dragonfly Algorithm Hybridised with PSO:\n",
      "Result:\n",
      "Minimiser:[3.855508002944333, 0.652275602750607] Function Value:0.052376737881122064\n",
      "Ensemble Dragonfly Algorithm:\n",
      "Minimisers:\n",
      "Position of the dragonfly:[2.9999999841298006, 0.49999999581849947]\n",
      "Function value obtained at the position of the dragonfly4.17114756159933e-17\n",
      "Position of the dragonfly:[2.999999946863779, 0.49999998634448606]\n",
      "Function value obtained at the position of the dragonfly4.572270912057099e-16\n",
      "######################################################################\n",
      "\n",
      "himmelblaus_function\n",
      "Vanilla Dragonfly Algorithm:\n",
      "Result:\n",
      "Minimiser:[2.9996564103386887, 2.000214722755765] Function Value:3.6758734066489663e-06\n",
      "Dragonfly Algorithm Hybridised with PSO:\n",
      "Result:\n",
      "Minimiser:[-2.8051189291822, 3.1313125326153477] Function Value:2.3028498939721762e-11\n",
      "Ensemble Dragonfly Algorithm:\n",
      "Minimisers:\n",
      "Position of the dragonfly:[3.0, 2.0]\n",
      "Function value obtained at the position of the dragonfly0.0\n",
      "Position of the dragonfly:[3.0, 2.0]\n",
      "Function value obtained at the position of the dragonfly0.0\n",
      "######################################################################\n",
      "\n",
      "Rastrigin_function\n",
      "Vanilla Dragonfly Algorithm:\n",
      "Result:\n",
      "Minimiser:[1.553340637141236, -1.047195935156635] Function Value:3.50949187747986\n",
      "Dragonfly Algorithm Hybridised with PSO:\n",
      "Result:\n",
      "Minimiser:[-0.6283175794661601, 0.27925224997906084] Function Value:0.4727655061515712\n",
      "Ensemble Dragonfly Algorithm:\n",
      "Minimisers:\n",
      "Position of the dragonfly:[-0.017453255041131308, -0.017453114924240953]\n",
      "Function value obtained at the position of the dragonfly0.0006092486803801478\n",
      "Position of the dragonfly:[-0.01745352965168274, -1.4045548006087932e-07]\n",
      "Function value obtained at the position of the dragonfly0.00030467491888686027\n",
      "######################################################################\n",
      "\n"
     ]
    }
   ],
   "source": [
    "k=0\n",
    "z=[]\n",
    "for i in function_list:\n",
    "    print(i.__name__)\n",
    "    vda=dragonfly_algorithm(i,30, 100)\n",
    "    print(f'Vanilla Dragonfly Algorithm:\\nResult:\\nMinimiser:{vda[0]} Function Value:{vda[1]}')\n",
    "    z.append([vda[1],'V_DA'])\n",
    "    da_pso=dragonfly_algorithm(i,30, 100)\n",
    "    print(f'Dragonfly Algorithm Hybridised with PSO:\\nResult:\\nMinimiser:{da_pso[0]} Function Value:{da_pso[1]}')\n",
    "    z.append([da_pso[1],'DA_PSO'])\n",
    "    print(f'Ensemble Dragonfly Algorithm:\\nMinimisers:')\n",
    "    ensemble_da(i,30, 100)\n",
    "    z.append([ensemble_da(i,30,100),'DA_Ensemble'])\n",
    "    print('######################################################################')\n",
    "    print()\n",
    "    "
   ]
  },
  {
   "cell_type": "code",
   "execution_count": 70,
   "metadata": {},
   "outputs": [],
   "source": [
    "import seaborn as sns\n",
    "avg_ensemble=0\n",
    "avg_vda=0\n",
    "avg_da_ps0=0\n",
    "\n",
    "for i in z:\n",
    "    if i[1]=='V_DA':\n",
    "        avg_vda+=i[0]\n",
    "    elif i[1]=='DA_PSO':\n",
    "        avg_da_ps0+=i[0]\n",
    "    else:\n",
    "        avg_ensemble+=i[0]\n",
    "avg_da_ps0=avg_da_ps0/4\n",
    "avg_vda=avg_vda/4\n",
    "avg_ensemble=avg_ensemble/4\n",
    "y_level=[1/avg_vda,1/avg_da_ps0,1/avg_ensemble]\n",
    "xlabel=['V_DA','DA_PSO','DA_EN']"
   ]
  },
  {
   "cell_type": "markdown",
   "metadata": {},
   "source": [
    "## No Scaling"
   ]
  },
  {
   "cell_type": "code",
   "execution_count": 71,
   "metadata": {},
   "outputs": [
    {
     "data": {
      "text/plain": [
       "<AxesSubplot:>"
      ]
     },
     "execution_count": 71,
     "metadata": {},
     "output_type": "execute_result"
    },
    {
     "data": {
      "image/png": "[encoded data removed]",
      "text/plain": [
       "<Figure size 720x720 with 1 Axes>"
      ]
     },
     "metadata": {
      "needs_background": "light"
     },
     "output_type": "display_data"
    }
   ],
   "source": [
    "plt.figure(figsize=[10,10])\n",
    "sns.barplot(x=xlabel,y=y_level)"
   ]
  },
  {
   "cell_type": "markdown",
   "metadata": {},
   "source": [
    "## Scaling Vanilla and Hybridised DA by 100"
   ]
  },
  {
   "cell_type": "code",
   "execution_count": 72,
   "metadata": {},
   "outputs": [
    {
     "data": {
      "text/plain": [
       "<AxesSubplot:>"
      ]
     },
     "execution_count": 72,
     "metadata": {},
     "output_type": "execute_result"
    },
    {
     "data": {
      "image/png": "[encoded data removed]",
      "text/plain": [
       "<Figure size 720x720 with 1 Axes>"
      ]
     },
     "metadata": {
      "needs_background": "light"
     },
     "output_type": "display_data"
    }
   ],
   "source": [
    "y_level_scaled=[(100/avg_vda),100/avg_da_ps0,1/avg_ensemble]\n",
    "plt.figure(figsize=[10,10])\n",
    "sns.barplot(x=xlabel,y=y_level_scaled)"
   ]
  },
  {
   "cell_type": "markdown",
   "metadata": {},
   "source": [
    "## Scaling Vanilla and Hybridised DA by 1000"
   ]
  },
  {
   "cell_type": "code",
   "execution_count": 73,
   "metadata": {},
   "outputs": [
    {
     "data": {
      "text/plain": [
       "<AxesSubplot:>"
      ]
     },
     "execution_count": 73,
     "metadata": {},
     "output_type": "execute_result"
    },
    {
     "data": {
      "image/png": "[encoded data removed]",
      "text/plain": [
       "<Figure size 720x720 with 1 Axes>"
      ]
     },
     "metadata": {
      "needs_background": "light"
     },
     "output_type": "display_data"
    }
   ],
   "source": [
    "y_level_scaled=[(1000/avg_vda),1000/avg_da_ps0,1/avg_ensemble]\n",
    "plt.figure(figsize=[10,10])\n",
    "sns.barplot(x=xlabel,y=y_level_scaled)"
   ]
  }
 ],
 "metadata": {
  "kernelspec": {
   "display_name": "Python 3.9.12",
   "language": "python",
   "name": "python3"
  },
  "language_info": {
   "codemirror_mode": {
    "name": "ipython",
    "version": 3
   },
   "file_extension": ".py",
   "mimetype": "text/x-python",
   "name": "python",
   "nbconvert_exporter": "python",
   "pygments_lexer": "ipython3",
   "version": "3.9.12"
  },
  "orig_nbformat": 4,
  "vscode": {
   "interpreter": {
    "hash": "40d3a090f54c6569ab1632332b64b2c03c39dcf918b08424e98f38b5ae0af88f"
   }
  }
 },
 "nbformat": 4,
 "nbformat_minor": 2
}
